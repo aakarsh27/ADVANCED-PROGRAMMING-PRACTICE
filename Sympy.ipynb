{
  "cells": [
    {
      "cell_type": "code",
      "execution_count": null,
      "id": "fe27b3a1",
      "metadata": {
        "id": "fe27b3a1",
        "outputId": "ec864089-ea9e-4e0f-9d0e-27a38316fc79"
      },
      "outputs": [
        {
          "name": "stdout",
          "output_type": "stream",
          "text": [
            "value of a is :5/8\n",
            "value of b is :3\n"
          ]
        }
      ],
      "source": [
        "# import everything from sympy module\n",
        "from sympy import *\n",
        "\n",
        "a = Rational(5, 8)\n",
        "print(\"value of a is :\" + str(a))\n",
        "\n",
        "b = Integer(3.579)\n",
        "print(\"value of b is :\" + str(b))\n"
      ]
    },
    {
      "cell_type": "code",
      "execution_count": null,
      "id": "44fd25a3",
      "metadata": {
        "id": "44fd25a3",
        "outputId": "75d18a67-4189-46f4-ec23-b63c8478f23d"
      },
      "outputs": [
        {
          "name": "stdout",
          "output_type": "stream",
          "text": [
            "value of p is :pi**3\n",
            "value of q is :3.14159265358979\n",
            "value of r is :2.71828182845905\n",
            "value of s is :5.85987448204884\n",
            "value of rslt is :oo\n",
            "True\n",
            "oo\n"
          ]
        }
      ],
      "source": [
        "# import everything from sympy module\n",
        "from sympy import *\n",
        "\n",
        "# you can't get any numerical value\n",
        "p = pi**3\n",
        "print(\"value of p is :\" + str(p))\n",
        "\n",
        "# evalf method evaluates the expression to a floating-point number\n",
        "q = pi.evalf()\n",
        "print(\"value of q is :\" + str(q))\n",
        "\n",
        "# equivalent to e ^ 1 or e ** 1\n",
        "r = exp(1).evalf()\n",
        "print(\"value of r is :\" + str(r))\n",
        "\n",
        "s = (pi + exp(1)).evalf()\n",
        "print(\"value of s is :\" + str(s))\n",
        "\n",
        "rslt = oo + 10000\n",
        "print(\"value of rslt is :\" + str(rslt))\n",
        "\n",
        "\n",
        "\n",
        "if oo > 9999999 :\n",
        "\tprint(\"True\")\n",
        "else:\n",
        "\tprint(\"False\")\n",
        "\n",
        "\n"
      ]
    },
    {
      "cell_type": "code",
      "execution_count": null,
      "id": "ecb6b92c",
      "metadata": {
        "id": "ecb6b92c",
        "outputId": "0f89aea3-7566-4071-f71f-ec2180e3d40e"
      },
      "outputs": [
        {
          "name": "stdout",
          "output_type": "stream",
          "text": [
            "2*x\n",
            "(x + y)**2\n"
          ]
        }
      ],
      "source": [
        "# import everything from sympy module\n",
        "from sympy import *\n",
        "x = Symbol('x')\n",
        "y = Symbol('y')\n",
        "print(x + y + x - y)\n",
        "print((x + y) ** 2)"
      ]
    },
    {
      "cell_type": "code",
      "execution_count": null,
      "id": "74192786",
      "metadata": {
        "id": "74192786",
        "outputId": "3e8689d7-5ad4-40bc-ed8c-b2dc7469c92b"
      },
      "outputs": [
        {
          "data": {
            "text/latex": [
              "$\\displaystyle x^{3} + 3 x^{2} y + 3 x y^{2} + y^{3}$"
            ],
            "text/plain": [
              "x**3 + 3*x**2*y + 3*x*y**2 + y**3"
            ]
          },
          "execution_count": 16,
          "metadata": {},
          "output_type": "execute_result"
        }
      ],
      "source": [
        "from sympy import *\n",
        "expand((x + y) ** 3)\n",
        "#print(3 * x * y ** 2 + 3 * y * x ** 2 + x ** 3 + y ** 3)"
      ]
    },
    {
      "cell_type": "code",
      "execution_count": null,
      "id": "919bff8e",
      "metadata": {
        "id": "919bff8e",
        "outputId": "578ec7c1-dfad-481a-f933-38156b353956"
      },
      "outputs": [
        {
          "name": "stdout",
          "output_type": "stream",
          "text": [
            "x**3 + 3*x**2*y + 3*x*y**2 + y**3\n"
          ]
        },
        {
          "data": {
            "text/latex": [
              "$\\displaystyle x^{3} + 3 x^{2} y + 3 x y^{2} + y^{3}$"
            ],
            "text/plain": [
              "x**3 + 3*x**2*y + 3*x*y**2 + y**3"
            ]
          },
          "execution_count": 19,
          "metadata": {},
          "output_type": "execute_result"
        }
      ],
      "source": [
        "from sympy import *\n",
        "print(3 * x * y ** 2 + 3 * y * x ** 2 + x ** 3 + y ** 3)\n",
        "3 * x * y ** 2 + 3 * y * x ** 2 + x ** 3 + y ** 3"
      ]
    },
    {
      "cell_type": "code",
      "execution_count": null,
      "id": "64e06fb8",
      "metadata": {
        "id": "64e06fb8",
        "outputId": "25997f40-e62d-4040-a8eb-69f5f0bbe62d"
      },
      "outputs": [
        {
          "data": {
            "text/latex": [
              "$\\displaystyle \\operatorname{re}{\\left(x\\right)} + \\operatorname{re}{\\left(y\\right)} + i \\operatorname{im}{\\left(x\\right)} + i \\operatorname{im}{\\left(y\\right)}$"
            ],
            "text/plain": [
              "re(x) + re(y) + I*im(x) + I*im(y)"
            ]
          },
          "execution_count": 20,
          "metadata": {},
          "output_type": "execute_result"
        }
      ],
      "source": [
        "from sympy import *\n",
        "expand(x + y, complex=True)\n"
      ]
    },
    {
      "cell_type": "code",
      "execution_count": null,
      "id": "4bfc5ca9",
      "metadata": {
        "id": "4bfc5ca9",
        "outputId": "15c9931f-9dde-4d32-e14c-bb7c77ccc8a5"
      },
      "outputs": [
        {
          "data": {
            "text/latex": [
              "$\\displaystyle \\operatorname{re}{\\left(x\\right)} + \\operatorname{re}{\\left(y\\right)} + i \\operatorname{im}{\\left(x\\right)} + i \\operatorname{im}{\\left(y\\right)}$"
            ],
            "text/plain": [
              "re(x) + re(y) + I*im(x) + I*im(y)"
            ]
          },
          "execution_count": 21,
          "metadata": {},
          "output_type": "execute_result"
        }
      ],
      "source": [
        "import sympy as sym\n",
        "sym.I * sym.im(x) + sym.I * sym.im(y) + sym.re(x) + sym.re(y)"
      ]
    },
    {
      "cell_type": "code",
      "execution_count": null,
      "id": "7a9e6ee7",
      "metadata": {
        "id": "7a9e6ee7",
        "outputId": "d7e956ca-3c68-453b-f4ac-c551fd960318"
      },
      "outputs": [
        {
          "data": {
            "text/latex": [
              "$\\displaystyle - \\sin{\\left(x \\right)} \\sin{\\left(y \\right)} + \\cos{\\left(x \\right)} \\cos{\\left(y \\right)}$"
            ],
            "text/plain": [
              "-sin(x)*sin(y) + cos(x)*cos(y)"
            ]
          },
          "execution_count": 22,
          "metadata": {},
          "output_type": "execute_result"
        }
      ],
      "source": [
        "import sympy as sym\n",
        "sym.expand(sym.cos(x + y), trig=True)"
      ]
    },
    {
      "cell_type": "code",
      "execution_count": null,
      "id": "917191c9",
      "metadata": {
        "id": "917191c9",
        "outputId": "ca24fae3-137c-4842-eab2-50d1b6eb98c2"
      },
      "outputs": [
        {
          "data": {
            "text/latex": [
              "$\\displaystyle - \\sin{\\left(x \\right)} \\sin{\\left(y \\right)} + \\cos{\\left(x \\right)} \\cos{\\left(y \\right)}$"
            ],
            "text/plain": [
              "-sin(x)*sin(y) + cos(x)*cos(y)"
            ]
          },
          "execution_count": 23,
          "metadata": {},
          "output_type": "execute_result"
        }
      ],
      "source": [
        "import sympy as sym\n",
        "sym.cos(x) * sym.cos(y) - sym.sin(x) * sym.sin(y)"
      ]
    },
    {
      "cell_type": "code",
      "execution_count": null,
      "id": "8bdba68c",
      "metadata": {
        "id": "8bdba68c",
        "outputId": "284ff2d7-f23f-4093-cbfb-175081b9d8c7"
      },
      "outputs": [
        {
          "data": {
            "text/latex": [
              "$\\displaystyle y + 1$"
            ],
            "text/plain": [
              "y + 1"
            ]
          },
          "execution_count": 24,
          "metadata": {},
          "output_type": "execute_result"
        }
      ],
      "source": [
        "import sympy as sym\n",
        "sym.simplify((x + x * y) / x)"
      ]
    },
    {
      "cell_type": "code",
      "execution_count": null,
      "id": "992869cf",
      "metadata": {
        "id": "992869cf",
        "outputId": "65535b8d-7ab6-4139-8813-16dff97e4089"
      },
      "outputs": [
        {
          "data": {
            "text/latex": [
              "$\\displaystyle 1$"
            ],
            "text/plain": [
              "1"
            ]
          },
          "execution_count": 25,
          "metadata": {},
          "output_type": "execute_result"
        }
      ],
      "source": [
        "sym.limit(sym.sin(x) / x, x, 0)"
      ]
    },
    {
      "cell_type": "code",
      "execution_count": null,
      "id": "a075854e",
      "metadata": {
        "id": "a075854e",
        "outputId": "d9a7abdf-7ad4-452e-fa3d-d9562def1171"
      },
      "outputs": [
        {
          "data": {
            "text/latex": [
              "$\\displaystyle \\infty$"
            ],
            "text/plain": [
              "oo"
            ]
          },
          "execution_count": 26,
          "metadata": {},
          "output_type": "execute_result"
        }
      ],
      "source": [
        "sym.limit(x, x, sym.oo)"
      ]
    },
    {
      "cell_type": "code",
      "execution_count": null,
      "id": "4a2ea1ed",
      "metadata": {
        "id": "4a2ea1ed",
        "outputId": "56967af3-e775-4ef9-fb64-38133afc267f"
      },
      "outputs": [
        {
          "data": {
            "text/latex": [
              "$\\displaystyle 0$"
            ],
            "text/plain": [
              "0"
            ]
          },
          "execution_count": 27,
          "metadata": {},
          "output_type": "execute_result"
        }
      ],
      "source": [
        "sym.limit(1 / x, x, sym.oo)"
      ]
    },
    {
      "cell_type": "code",
      "execution_count": null,
      "id": "cf841d76",
      "metadata": {
        "id": "cf841d76",
        "outputId": "9e47a86d-2126-4e86-aa3a-d59f5b919c8f"
      },
      "outputs": [
        {
          "data": {
            "text/latex": [
              "$\\displaystyle 1$"
            ],
            "text/plain": [
              "1"
            ]
          },
          "execution_count": 28,
          "metadata": {},
          "output_type": "execute_result"
        }
      ],
      "source": [
        "sym.limit(x ** x, x, 0)"
      ]
    },
    {
      "cell_type": "code",
      "execution_count": null,
      "id": "84115f10",
      "metadata": {
        "id": "84115f10",
        "outputId": "9f5fe483-eb5a-4f8a-b9fb-14a3d2e1f0b2"
      },
      "outputs": [
        {
          "data": {
            "text/latex": [
              "$\\displaystyle \\cos{\\left(x \\right)}$"
            ],
            "text/plain": [
              "cos(x)"
            ]
          },
          "execution_count": 29,
          "metadata": {},
          "output_type": "execute_result"
        }
      ],
      "source": [
        "# Differentiation\n",
        "#You can differentiate any SymPy expression using diff(func, var). Examples:\n",
        "sym.diff(sym.sin(x), x)"
      ]
    },
    {
      "cell_type": "code",
      "execution_count": null,
      "id": "d23b04bf",
      "metadata": {
        "id": "d23b04bf",
        "outputId": "131522f8-168e-4679-92a8-1e9fa7132166"
      },
      "outputs": [
        {
          "data": {
            "text/latex": [
              "$\\displaystyle 2 \\cos{\\left(2 x \\right)}$"
            ],
            "text/plain": [
              "2*cos(2*x)"
            ]
          },
          "execution_count": 30,
          "metadata": {},
          "output_type": "execute_result"
        }
      ],
      "source": [
        "sym.diff(sym.sin(2 * x), x)"
      ]
    },
    {
      "cell_type": "code",
      "execution_count": null,
      "id": "77735af5",
      "metadata": {
        "id": "77735af5",
        "outputId": "5096326d-596e-4d6c-efec-e3f72a811df8"
      },
      "outputs": [
        {
          "data": {
            "text/latex": [
              "$\\displaystyle \\tan^{2}{\\left(x \\right)} + 1$"
            ],
            "text/plain": [
              "tan(x)**2 + 1"
            ]
          },
          "execution_count": 31,
          "metadata": {},
          "output_type": "execute_result"
        }
      ],
      "source": [
        "sym.diff(sym.tan(x), x)"
      ]
    },
    {
      "cell_type": "code",
      "execution_count": null,
      "id": "642574d3",
      "metadata": {
        "id": "642574d3",
        "outputId": "c20c5c0e-ed3e-4f25-b911-cf7aa5cc78f5"
      },
      "outputs": [
        {
          "data": {
            "text/latex": [
              "$\\displaystyle \\tan^{2}{\\left(x \\right)} + 1$"
            ],
            "text/plain": [
              "tan(x)**2 + 1"
            ]
          },
          "execution_count": 32,
          "metadata": {},
          "output_type": "execute_result"
        }
      ],
      "source": [
        "sym.limit((sym.tan(x + y) - sym.tan(x)) / y, y, 0)"
      ]
    },
    {
      "cell_type": "code",
      "execution_count": null,
      "id": "dede5f5e",
      "metadata": {
        "id": "dede5f5e",
        "outputId": "41affd2f-2258-4785-8be4-604a250ff6b5"
      },
      "outputs": [
        {
          "data": {
            "text/latex": [
              "$\\displaystyle 2 \\cos{\\left(2 x \\right)}$"
            ],
            "text/plain": [
              "2*cos(2*x)"
            ]
          },
          "execution_count": 33,
          "metadata": {},
          "output_type": "execute_result"
        }
      ],
      "source": [
        "# Higher derivatives can be calculated using the diff(func, var, n) method:\n",
        "sym.diff(sym.sin(2 * x), x, 1)"
      ]
    },
    {
      "cell_type": "code",
      "execution_count": null,
      "id": "fdb6e856",
      "metadata": {
        "id": "fdb6e856",
        "outputId": "113dcf37-64f4-4239-8f07-e76094eacfc0"
      },
      "outputs": [
        {
          "data": {
            "text/latex": [
              "$\\displaystyle - 4 \\sin{\\left(2 x \\right)}$"
            ],
            "text/plain": [
              "-4*sin(2*x)"
            ]
          },
          "execution_count": 34,
          "metadata": {},
          "output_type": "execute_result"
        }
      ],
      "source": [
        "sym.diff(sym.sin(2 * x), x, 2)"
      ]
    },
    {
      "cell_type": "code",
      "execution_count": null,
      "id": "c6bf0d56",
      "metadata": {
        "id": "c6bf0d56",
        "outputId": "ee79b922-dad0-415c-8e63-5a3a59c2211c"
      },
      "outputs": [
        {
          "data": {
            "text/latex": [
              "$\\displaystyle - 8 \\cos{\\left(2 x \\right)}$"
            ],
            "text/plain": [
              "-8*cos(2*x)"
            ]
          },
          "execution_count": 35,
          "metadata": {},
          "output_type": "execute_result"
        }
      ],
      "source": [
        "sym.diff(sym.sin(2 * x), x, 3)\n"
      ]
    },
    {
      "cell_type": "code",
      "execution_count": null,
      "id": "95430251",
      "metadata": {
        "id": "95430251",
        "outputId": "3af5d637-c45b-443e-80e1-66ca21fae45d"
      },
      "outputs": [
        {
          "data": {
            "text/latex": [
              "$\\displaystyle 1 - \\frac{x^{2}}{2} + \\frac{x^{4}}{24} + O\\left(x^{6}\\right)$"
            ],
            "text/plain": [
              "1 - x**2/2 + x**4/24 + O(x**6)"
            ]
          },
          "execution_count": 36,
          "metadata": {},
          "output_type": "execute_result"
        }
      ],
      "source": [
        "#Series expansion\n",
        "#SymPy also knows how to compute the Taylor series of an expression at a point. Use series(expr, var):\n",
        "sym.series(sym.cos(x), x)\n"
      ]
    },
    {
      "cell_type": "code",
      "execution_count": null,
      "id": "cff2c672",
      "metadata": {
        "id": "cff2c672",
        "outputId": "61090040-1c55-4a33-ece3-9100a4662e9e"
      },
      "outputs": [
        {
          "data": {
            "text/latex": [
              "$\\displaystyle 1 + \\frac{x^{2}}{2} + \\frac{5 x^{4}}{24} + O\\left(x^{6}\\right)$"
            ],
            "text/plain": [
              "1 + x**2/2 + 5*x**4/24 + O(x**6)"
            ]
          },
          "execution_count": 37,
          "metadata": {},
          "output_type": "execute_result"
        }
      ],
      "source": [
        "sym.series(1/sym.cos(x), x)"
      ]
    },
    {
      "cell_type": "code",
      "execution_count": null,
      "id": "39fd73cf",
      "metadata": {
        "id": "39fd73cf",
        "outputId": "cc53b748-4028-426a-8982-baaca1aeffa1"
      },
      "outputs": [
        {
          "data": {
            "text/latex": [
              "$\\displaystyle x^{6}$"
            ],
            "text/plain": [
              "x**6"
            ]
          },
          "execution_count": 38,
          "metadata": {},
          "output_type": "execute_result"
        }
      ],
      "source": [
        "# Integration\n",
        "#SymPy has support for indefinite and definite integration of transcendental elementary and\n",
        "#special functions via integrate() facility,which uses the powerful extended Risch-Norman algorithm and\n",
        "#some heuristics and pattern matching.You can integrate elementary functions:\n",
        "sym.integrate(6 * x ** 5, x)"
      ]
    },
    {
      "cell_type": "code",
      "execution_count": null,
      "id": "af3308aa",
      "metadata": {
        "id": "af3308aa",
        "outputId": "9f33eeef-23a7-4a93-e6c9-c866630056cd"
      },
      "outputs": [
        {
          "data": {
            "text/latex": [
              "$\\displaystyle - \\cos{\\left(x \\right)}$"
            ],
            "text/plain": [
              "-cos(x)"
            ]
          },
          "execution_count": 39,
          "metadata": {},
          "output_type": "execute_result"
        }
      ],
      "source": [
        "sym.integrate(sym.sin(x), x)"
      ]
    },
    {
      "cell_type": "code",
      "execution_count": null,
      "id": "431f886b",
      "metadata": {
        "id": "431f886b",
        "outputId": "938b0c7d-66ff-411a-af67-79b1d6f70241"
      },
      "outputs": [
        {
          "data": {
            "text/latex": [
              "$\\displaystyle x \\log{\\left(x \\right)} - x$"
            ],
            "text/plain": [
              "x*log(x) - x"
            ]
          },
          "execution_count": 40,
          "metadata": {},
          "output_type": "execute_result"
        }
      ],
      "source": [
        "sym.integrate(sym.log(x), x)"
      ]
    },
    {
      "cell_type": "code",
      "execution_count": null,
      "id": "6b65a99c",
      "metadata": {
        "id": "6b65a99c",
        "outputId": "001b77f4-0b3b-4038-d026-6fbf98b8a96b"
      },
      "outputs": [
        {
          "data": {
            "text/latex": [
              "$\\displaystyle x^{2} + \\cosh{\\left(x \\right)}$"
            ],
            "text/plain": [
              "x**2 + cosh(x)"
            ]
          },
          "execution_count": 41,
          "metadata": {},
          "output_type": "execute_result"
        }
      ],
      "source": [
        "sym.integrate(2 * x + sym.sinh(x), x)"
      ]
    },
    {
      "cell_type": "code",
      "execution_count": null,
      "id": "d0bf3f12",
      "metadata": {
        "id": "d0bf3f12",
        "outputId": "2266c8aa-83ff-4926-e867-73c816c0a6ac"
      },
      "outputs": [
        {
          "data": {
            "text/latex": [
              "$\\displaystyle \\frac{\\sqrt{\\pi} \\operatorname{erf}^{2}{\\left(x \\right)}}{4}$"
            ],
            "text/plain": [
              "sqrt(pi)*erf(x)**2/4"
            ]
          },
          "execution_count": 42,
          "metadata": {},
          "output_type": "execute_result"
        }
      ],
      "source": [
        "sym.integrate(sym.exp(-x ** 2) * sym.erf(x), x)"
      ]
    },
    {
      "cell_type": "code",
      "execution_count": null,
      "id": "f3e7a198",
      "metadata": {
        "id": "f3e7a198",
        "outputId": "9ac8dc48-46ef-4d75-c9c5-af2d73e3437a"
      },
      "outputs": [
        {
          "data": {
            "text/latex": [
              "$\\displaystyle 0$"
            ],
            "text/plain": [
              "0"
            ]
          },
          "execution_count": 43,
          "metadata": {},
          "output_type": "execute_result"
        }
      ],
      "source": [
        "sym.integrate(x**3, (x, -1, 1))"
      ]
    },
    {
      "cell_type": "code",
      "execution_count": null,
      "id": "75b37a57",
      "metadata": {
        "id": "75b37a57",
        "outputId": "3cd8087a-0e6d-4882-e82f-f77562a4cffb"
      },
      "outputs": [
        {
          "data": {
            "text/latex": [
              "$\\displaystyle 1$"
            ],
            "text/plain": [
              "1"
            ]
          },
          "execution_count": 44,
          "metadata": {},
          "output_type": "execute_result"
        }
      ],
      "source": [
        "sym.integrate(sym.sin(x), (x, 0, sym.pi / 2))\n"
      ]
    },
    {
      "cell_type": "code",
      "execution_count": null,
      "id": "05df3ffc",
      "metadata": {
        "id": "05df3ffc",
        "outputId": "54765c63-eea0-411f-eeed-3dd7466d73a4"
      },
      "outputs": [
        {
          "data": {
            "text/latex": [
              "$\\displaystyle 2$"
            ],
            "text/plain": [
              "2"
            ]
          },
          "execution_count": 45,
          "metadata": {},
          "output_type": "execute_result"
        }
      ],
      "source": [
        "sym.integrate(sym.cos(x), (x, -sym.pi / 2, sym.pi / 2))\n"
      ]
    },
    {
      "cell_type": "code",
      "execution_count": null,
      "id": "828f2fae",
      "metadata": {
        "id": "828f2fae",
        "outputId": "e413749a-bfe1-44f5-b8f8-d1c90b87a005"
      },
      "outputs": [
        {
          "data": {
            "text/latex": [
              "$\\displaystyle 1$"
            ],
            "text/plain": [
              "1"
            ]
          },
          "execution_count": 46,
          "metadata": {},
          "output_type": "execute_result"
        }
      ],
      "source": [
        "sym.integrate(sym.exp(-x), (x, 0, sym.oo))"
      ]
    },
    {
      "cell_type": "code",
      "execution_count": null,
      "id": "c1706d92",
      "metadata": {
        "id": "c1706d92",
        "outputId": "5b3c6e3e-4908-4f4c-a94e-75b1d7ce66e2"
      },
      "outputs": [
        {
          "data": {
            "text/latex": [
              "$\\displaystyle \\sqrt{\\pi}$"
            ],
            "text/plain": [
              "sqrt(pi)"
            ]
          },
          "execution_count": 47,
          "metadata": {},
          "output_type": "execute_result"
        }
      ],
      "source": [
        "sym.integrate(sym.exp(-x ** 2), (x, -sym.oo, sym.oo))\n"
      ]
    },
    {
      "cell_type": "code",
      "execution_count": null,
      "id": "d0289b97",
      "metadata": {
        "id": "d0289b97",
        "outputId": "10b593ba-ef11-46dc-a75e-9a3d232c8e5b"
      },
      "outputs": [
        {
          "data": {
            "text/latex": [
              "$\\displaystyle \\left\\{-1, 1, - i, i\\right\\}$"
            ],
            "text/plain": [
              "{-1, 1, -I, I}"
            ]
          },
          "execution_count": 48,
          "metadata": {},
          "output_type": "execute_result"
        }
      ],
      "source": [
        "#Equation solving\n",
        "#SymPy is able to solve algebraic equations, in one and several variables using solveset():\n",
        "sym.solveset(x ** 4 - 1, x)"
      ]
    },
    {
      "cell_type": "code",
      "execution_count": null,
      "id": "64e5d647",
      "metadata": {
        "id": "64e5d647",
        "outputId": "9d2a0689-1314-4856-c903-639ea7e9a879"
      },
      "outputs": [
        {
          "data": {
            "text/latex": [
              "$\\displaystyle \\left\\{i \\left(2 n \\pi + \\pi\\right)\\; \\middle|\\; n \\in \\mathbb{Z}\\right\\}$"
            ],
            "text/plain": [
              "ImageSet(Lambda(_n, I*(2*_n*pi + pi)), Integers)"
            ]
          },
          "execution_count": 49,
          "metadata": {},
          "output_type": "execute_result"
        }
      ],
      "source": [
        "sym.solveset(sym.exp(x) + 1, x)"
      ]
    },
    {
      "cell_type": "code",
      "execution_count": null,
      "id": "dfc7612e",
      "metadata": {
        "id": "dfc7612e",
        "outputId": "aa66dba8-2c3a-40e8-8fe9-e4421b6f7d65"
      },
      "outputs": [
        {
          "data": {
            "text/plain": [
              "(-3, 1)"
            ]
          },
          "execution_count": 50,
          "metadata": {},
          "output_type": "execute_result"
        }
      ],
      "source": [
        "solution = sym.solve((x + 5 * y - 2, -3 * x + 6 * y - 15), (x, y))\n",
        "solution[x], solution[y]"
      ]
    },
    {
      "cell_type": "code",
      "execution_count": null,
      "id": "94c399e3",
      "metadata": {
        "id": "94c399e3",
        "outputId": "b04ce0fb-4835-4ce8-b9f2-5d91db688f7b"
      },
      "outputs": [
        {
          "data": {
            "text/latex": [
              "$\\displaystyle \\left(x^{2} - x - 1\\right) \\left(x^{2} + x - 1\\right)$"
            ],
            "text/plain": [
              "(x**2 - x - 1)*(x**2 + x - 1)"
            ]
          },
          "execution_count": 51,
          "metadata": {},
          "output_type": "execute_result"
        }
      ],
      "source": [
        "f = x ** 4 - 3 * x ** 2 + 1\n",
        "sym.factor(f)"
      ]
    },
    {
      "cell_type": "code",
      "execution_count": null,
      "id": "10fe5ee5",
      "metadata": {
        "id": "10fe5ee5",
        "outputId": "d51bcc8c-d1f8-4f2d-ea4c-0f8567c2e41f"
      },
      "outputs": [
        {
          "data": {
            "text/latex": [
              "$\\displaystyle \\left(x - 2\\right)^{2} \\left(x + 2\\right)^{2}$"
            ],
            "text/plain": [
              "(x - 2)**2*(x + 2)**2"
            ]
          },
          "execution_count": 52,
          "metadata": {},
          "output_type": "execute_result"
        }
      ],
      "source": [
        "sym.factor(f, modulus=5)"
      ]
    },
    {
      "cell_type": "code",
      "execution_count": null,
      "id": "9d3e5712",
      "metadata": {
        "id": "9d3e5712",
        "outputId": "4e189147-48d8-41cd-801c-d85968e9a49e"
      },
      "outputs": [
        {
          "data": {
            "text/plain": [
              "{y: True, x: True}"
            ]
          },
          "execution_count": 53,
          "metadata": {},
          "output_type": "execute_result"
        }
      ],
      "source": [
        "sym.satisfiable(x & y)"
      ]
    },
    {
      "cell_type": "code",
      "execution_count": null,
      "id": "eb1354fb",
      "metadata": {
        "id": "eb1354fb",
        "outputId": "859327da-f786-4199-b676-48f21f0988b4"
      },
      "outputs": [
        {
          "data": {
            "text/plain": [
              "False"
            ]
          },
          "execution_count": 54,
          "metadata": {},
          "output_type": "execute_result"
        }
      ],
      "source": [
        "sym.satisfiable(x & ~x)"
      ]
    },
    {
      "cell_type": "code",
      "execution_count": null,
      "id": "c340f828",
      "metadata": {
        "id": "c340f828",
        "outputId": "6433dfaa-2fab-408d-88d7-610ca80fe5e1"
      },
      "outputs": [
        {
          "data": {
            "text/latex": [
              "$\\displaystyle \\left[\\begin{matrix}1 & 0\\\\0 & 1\\end{matrix}\\right]$"
            ],
            "text/plain": [
              "Matrix([\n",
              "[1, 0],\n",
              "[0, 1]])"
            ]
          },
          "execution_count": 55,
          "metadata": {},
          "output_type": "execute_result"
        }
      ],
      "source": [
        "#Linear Algebra\n",
        "#Matrices\n",
        "sym.Matrix([[1, 0], [0, 1]])"
      ]
    },
    {
      "cell_type": "code",
      "execution_count": null,
      "id": "e2185cab",
      "metadata": {
        "id": "e2185cab",
        "outputId": "49517cc2-dcce-426b-fef4-8480821f259d"
      },
      "outputs": [
        {
          "data": {
            "text/latex": [
              "$\\displaystyle \\left[\\begin{matrix}1 & x\\\\y & 1\\end{matrix}\\right]$"
            ],
            "text/plain": [
              "Matrix([\n",
              "[1, x],\n",
              "[y, 1]])"
            ]
          },
          "execution_count": 56,
          "metadata": {},
          "output_type": "execute_result"
        }
      ],
      "source": [
        "x, y = sym.symbols('x, y')\n",
        "A = sym.Matrix([[1, x], [y, 1]])\n",
        "A"
      ]
    },
    {
      "cell_type": "code",
      "execution_count": null,
      "id": "fae7f491",
      "metadata": {
        "id": "fae7f491",
        "outputId": "62686570-e183-438a-b844-ad18a4dbb659"
      },
      "outputs": [
        {
          "data": {
            "text/latex": [
              "$\\displaystyle \\left[\\begin{matrix}x y + 1 & 2 x\\\\2 y & x y + 1\\end{matrix}\\right]$"
            ],
            "text/plain": [
              "Matrix([\n",
              "[x*y + 1,     2*x],\n",
              "[    2*y, x*y + 1]])"
            ]
          },
          "execution_count": 57,
          "metadata": {},
          "output_type": "execute_result"
        }
      ],
      "source": [
        "A**2"
      ]
    },
    {
      "cell_type": "code",
      "execution_count": null,
      "id": "98ca0318",
      "metadata": {
        "id": "98ca0318"
      },
      "outputs": [],
      "source": [
        "#Differential Equations\n",
        "#SymPy is capable of solving (some) Ordinary Differential. To solve differential equations, use dsolve.\n",
        "#First, create an undefined function by passing cls=Function to the symbols function:\n",
        "f, g = sym.symbols('f g', cls=sym.Function)"
      ]
    },
    {
      "cell_type": "code",
      "execution_count": null,
      "id": "440e2bd2",
      "metadata": {
        "id": "440e2bd2",
        "outputId": "2913ece1-c8fd-4dcc-c274-dccf57fdd5ce"
      },
      "outputs": [
        {
          "data": {
            "text/latex": [
              "$\\displaystyle f{\\left(x \\right)}$"
            ],
            "text/plain": [
              "f(x)"
            ]
          },
          "execution_count": 59,
          "metadata": {},
          "output_type": "execute_result"
        }
      ],
      "source": [
        "f(x)"
      ]
    },
    {
      "cell_type": "code",
      "execution_count": null,
      "id": "6d252f8f",
      "metadata": {
        "id": "6d252f8f",
        "outputId": "035d7516-84bc-42ec-cdba-300e608dddac"
      },
      "outputs": [
        {
          "data": {
            "text/latex": [
              "$\\displaystyle f{\\left(x \\right)} + \\frac{d^{2}}{d x^{2}} f{\\left(x \\right)}$"
            ],
            "text/plain": [
              "f(x) + Derivative(f(x), (x, 2))"
            ]
          },
          "execution_count": 60,
          "metadata": {},
          "output_type": "execute_result"
        }
      ],
      "source": [
        "f(x).diff(x, x) + f(x)"
      ]
    },
    {
      "cell_type": "code",
      "execution_count": null,
      "id": "d0eed705",
      "metadata": {
        "id": "d0eed705",
        "outputId": "97a32017-a7ea-469c-8b6c-6fcd001b13aa"
      },
      "outputs": [
        {
          "data": {
            "text/latex": [
              "$\\displaystyle f{\\left(x \\right)} = C_{1} \\sin{\\left(x \\right)} + C_{2} \\cos{\\left(x \\right)}$"
            ],
            "text/plain": [
              "Eq(f(x), C1*sin(x) + C2*cos(x))"
            ]
          },
          "execution_count": 61,
          "metadata": {},
          "output_type": "execute_result"
        }
      ],
      "source": [
        "sym.dsolve(f(x).diff(x, x) + f(x), f(x))"
      ]
    },
    {
      "cell_type": "code",
      "execution_count": null,
      "id": "0dd080d4",
      "metadata": {
        "id": "0dd080d4",
        "outputId": "961b34af-dc97-4f39-a200-98be5a907bf5"
      },
      "outputs": [
        {
          "data": {
            "text/plain": [
              "[Eq(f(x), -acos(C1/cos(x)) + 2*pi), Eq(f(x), acos(C1/cos(x)))]"
            ]
          },
          "execution_count": 62,
          "metadata": {},
          "output_type": "execute_result"
        }
      ],
      "source": [
        "sym.dsolve(sym.sin(x) * sym.cos(f(x)) + sym.cos(x) * sym.sin(f(x)) * f(x).diff(x), f(x), hint='separable')"
      ]
    },
    {
      "cell_type": "code",
      "execution_count": null,
      "id": "ab9f0e49",
      "metadata": {
        "id": "ab9f0e49",
        "outputId": "8951fc3d-0130-4063-9f2c-cc1b311a02b8"
      },
      "outputs": [
        {
          "data": {
            "text/plain": [
              "23"
            ]
          },
          "execution_count": 64,
          "metadata": {},
          "output_type": "execute_result"
        }
      ],
      "source": [
        "sym.prime(9)"
      ]
    },
    {
      "cell_type": "code",
      "execution_count": null,
      "id": "97ad326f",
      "metadata": {
        "id": "97ad326f",
        "outputId": "fb85d371-30ed-488f-9457-906144abb17a"
      },
      "outputs": [
        {
          "data": {
            "text/latex": [
              "$\\displaystyle 24$"
            ],
            "text/plain": [
              "24"
            ]
          },
          "execution_count": 65,
          "metadata": {},
          "output_type": "execute_result"
        }
      ],
      "source": [
        "sym.factorial(4)"
      ]
    },
    {
      "cell_type": "code",
      "execution_count": null,
      "id": "f6de252b",
      "metadata": {
        "id": "f6de252b"
      },
      "outputs": [],
      "source": []
    }
  ],
  "metadata": {
    "kernelspec": {
      "display_name": "Python 3 (ipykernel)",
      "language": "python",
      "name": "python3"
    },
    "language_info": {
      "codemirror_mode": {
        "name": "ipython",
        "version": 3
      },
      "file_extension": ".py",
      "mimetype": "text/x-python",
      "name": "python",
      "nbconvert_exporter": "python",
      "pygments_lexer": "ipython3",
      "version": "3.10.5"
    },
    "colab": {
      "provenance": []
    }
  },
  "nbformat": 4,
  "nbformat_minor": 5
}