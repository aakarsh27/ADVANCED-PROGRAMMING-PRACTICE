{
  "cells": [
    {
      "cell_type": "code",
      "execution_count": null,
      "metadata": {
        "id": "8nMY0nPXduZF",
        "outputId": "31d2778d-36b4-4dfc-d8d5-7db0bf2fdf10"
      },
      "outputs": [
        {
          "data": {
            "text/plain": [
              "2"
            ]
          },
          "execution_count": 47,
          "metadata": {},
          "output_type": "execute_result"
        }
      ],
      "source": [
        "num = 1\n",
        "def function_to_add_one(num):\n",
        "    num += 1\n",
        "    return num\n",
        "function_to_add_one(num)\n",
        "function_to_add_one(num)\n",
        "function_to_add_one(num)\n",
        "function_to_add_one(num)\n",
        "#function_to_add_one(num)"
      ]
    },
    {
      "cell_type": "code",
      "execution_count": null,
      "metadata": {
        "id": "-Ano1-9AduZI",
        "outputId": "b1318d66-9499-4c06-ae31-4a4b9056d358"
      },
      "outputs": [
        {
          "data": {
            "text/plain": [
              "6"
            ]
          },
          "execution_count": 42,
          "metadata": {},
          "output_type": "execute_result"
        }
      ],
      "source": [
        "num = 1\n",
        "def procedure_to_add_one():\n",
        "    global num\n",
        "    num += 1\n",
        "    return num\n",
        "procedure_to_add_one()\n",
        "procedure_to_add_one()\n",
        "procedure_to_add_one()\n",
        "procedure_to_add_one()\n",
        "procedure_to_add_one()\n"
      ]
    },
    {
      "cell_type": "code",
      "execution_count": null,
      "metadata": {
        "id": "tL8cJXT6duZJ",
        "outputId": "135f718b-3f76-4e25-d424-b0c96fb945d5"
      },
      "outputs": [
        {
          "name": "stdout",
          "output_type": "stream",
          "text": [
            "10 20\n"
          ]
        }
      ],
      "source": [
        "a=input().split()\n"
      ]
    },
    {
      "cell_type": "code",
      "execution_count": null,
      "metadata": {
        "id": "8mHrlfi6duZJ",
        "outputId": "3b94ea51-d969-4d4f-80f8-f268546977e3"
      },
      "outputs": [
        {
          "data": {
            "text/plain": [
              "['10', '20']"
            ]
          },
          "execution_count": 49,
          "metadata": {},
          "output_type": "execute_result"
        }
      ],
      "source": [
        "a"
      ]
    },
    {
      "cell_type": "code",
      "execution_count": null,
      "metadata": {
        "id": "oS9DU6iUduZJ",
        "outputId": "f1328edd-9148-487a-8a29-35fa31131d0b"
      },
      "outputs": [
        {
          "data": {
            "text/plain": [
              "str"
            ]
          },
          "execution_count": 51,
          "metadata": {},
          "output_type": "execute_result"
        }
      ],
      "source": [
        "type(a[0])"
      ]
    },
    {
      "cell_type": "code",
      "execution_count": null,
      "metadata": {
        "id": "3oNMBN65duZJ",
        "outputId": "39ea6e14-2635-4afb-9c65-568c18d7b9f5"
      },
      "outputs": [
        {
          "name": "stdout",
          "output_type": "stream",
          "text": [
            "10 20\n"
          ]
        }
      ],
      "source": [
        "b=list(map(int,input().split()))"
      ]
    },
    {
      "cell_type": "code",
      "execution_count": null,
      "metadata": {
        "id": "i4R3_fqNduZK",
        "outputId": "44eb1390-e2b3-4950-d132-c97b352a7a5c"
      },
      "outputs": [
        {
          "data": {
            "text/plain": [
              "[10, 20]"
            ]
          },
          "execution_count": 53,
          "metadata": {},
          "output_type": "execute_result"
        }
      ],
      "source": [
        "b"
      ]
    },
    {
      "cell_type": "code",
      "execution_count": null,
      "metadata": {
        "id": "Oo-z3jqyduZK",
        "outputId": "b5944430-f70d-481f-f3b5-a9da2061094b"
      },
      "outputs": [
        {
          "data": {
            "text/plain": [
              "int"
            ]
          },
          "execution_count": 54,
          "metadata": {},
          "output_type": "execute_result"
        }
      ],
      "source": [
        "type(b[0])"
      ]
    },
    {
      "cell_type": "code",
      "execution_count": null,
      "metadata": {
        "id": "xTKwJK8SduZK"
      },
      "outputs": [],
      "source": [
        "c=list(map(int, [\"1\", \"2\", \"3\"]))"
      ]
    },
    {
      "cell_type": "code",
      "execution_count": null,
      "metadata": {
        "id": "CX9oVrdPduZK",
        "outputId": "af9663bf-b323-42f3-be85-597836591ce0"
      },
      "outputs": [
        {
          "data": {
            "text/plain": [
              "[1, 2, 3]"
            ]
          },
          "execution_count": 56,
          "metadata": {},
          "output_type": "execute_result"
        }
      ],
      "source": [
        "c"
      ]
    },
    {
      "cell_type": "code",
      "execution_count": null,
      "metadata": {
        "id": "aXQbFLnHduZL",
        "outputId": "4f5303c8-2a60-48a9-af1c-8fdd83691492"
      },
      "outputs": [
        {
          "data": {
            "text/plain": [
              "int"
            ]
          },
          "execution_count": 57,
          "metadata": {},
          "output_type": "execute_result"
        }
      ],
      "source": [
        "type(c[0])"
      ]
    },
    {
      "cell_type": "code",
      "execution_count": null,
      "metadata": {
        "id": "aQJj1ccMduZL",
        "outputId": "e409e911-b2d3-440f-b206-ea291de3d1df"
      },
      "outputs": [
        {
          "name": "stdout",
          "output_type": "stream",
          "text": [
            "[1, 3, 5, 10]\n",
            "[2, 6, 10, 20]\n"
          ]
        }
      ],
      "source": [
        "def multiply_2_pure(numbers):\n",
        "    new_numbers = []\n",
        "    for n in numbers:\n",
        "        new_numbers.append(n * 2)\n",
        "    return new_numbers\n",
        "original_numbers = [1, 3, 5, 10]\n",
        "changed_numbers = multiply_2_pure(original_numbers)\n",
        "print(original_numbers) # [1, 3, 5, 10]\n",
        "print(changed_numbers)  # [2, 6, 10, 20]\n",
        "\n"
      ]
    },
    {
      "cell_type": "code",
      "execution_count": null,
      "metadata": {
        "id": "-AvncWjSduZL",
        "outputId": "586f23d6-4903-41ce-8e04-ea1dd19a7d9d"
      },
      "outputs": [
        {
          "name": "stdout",
          "output_type": "stream",
          "text": [
            "15\n"
          ]
        }
      ],
      "source": [
        "x = lambda a : a + 10\n",
        "print(x(5))"
      ]
    },
    {
      "cell_type": "code",
      "execution_count": null,
      "metadata": {
        "id": "Oxta2aPxduZM",
        "outputId": "9f097298-0786-43cd-c4e5-757ff5939229"
      },
      "outputs": [
        {
          "name": "stdout",
          "output_type": "stream",
          "text": [
            "Hello\n",
            "Hello\n",
            "Hello\n",
            "Hello\n",
            "Hello\n"
          ]
        }
      ],
      "source": [
        "def write_repeat(message, n):\n",
        " for i in range(n):\n",
        "    print(message)\n",
        "write_repeat('Hello', 5)\n"
      ]
    },
    {
      "cell_type": "code",
      "execution_count": null,
      "metadata": {
        "id": "WI_lQV0AduZM",
        "outputId": "f436377f-ce6c-4a84-9d35-23fafd44ebf2"
      },
      "outputs": [
        {
          "name": "stdout",
          "output_type": "stream",
          "text": [
            "Hello\n",
            "Hello\n",
            "Hello\n",
            "Hello\n",
            "Hello\n"
          ]
        }
      ],
      "source": [
        "def hof_write_repeat(message, n, action):\n",
        "    for i in range(n):\n",
        "        action(message)\n",
        "\n",
        "hof_write_repeat('Hello', 5, print)\n",
        "\n"
      ]
    },
    {
      "cell_type": "code",
      "execution_count": null,
      "metadata": {
        "id": "ZdBfA8ZhduZM",
        "outputId": "f94eb23e-f354-4c34-f583-7a20c9f3eb0e"
      },
      "outputs": [
        {
          "name": "stderr",
          "output_type": "stream",
          "text": [
            "ERROR:root:Hello\n",
            "ERROR:root:Hello\n",
            "ERROR:root:Hello\n",
            "ERROR:root:Hello\n",
            "ERROR:root:Hello\n"
          ]
        }
      ],
      "source": [
        "import logging\n",
        "hof_write_repeat('Hello', 5, logging.error)\n"
      ]
    },
    {
      "cell_type": "code",
      "execution_count": null,
      "metadata": {
        "id": "tpQ7EYZRduZM",
        "outputId": "f7697e40-ed4a-4c3c-fafc-efbd8bbaa73b"
      },
      "outputs": [
        {
          "name": "stdout",
          "output_type": "stream",
          "text": [
            "[25, 90]\n",
            "[28, 93]\n",
            "[33, 98]\n"
          ]
        }
      ],
      "source": [
        "def hof_add(increment):\n",
        "    # Create a function that loops and adds the increment\n",
        "    def add_increment(numbers):\n",
        "        new_numbers = []\n",
        "        for n in numbers:\n",
        "            new_numbers.append(n + increment)\n",
        "        return new_numbers\n",
        "    # We return the function as we do any other value\n",
        "    return add_increment\n",
        "add2=hof_add(2)\n",
        "print(add2([23, 88])) # [25, 90]\n",
        "add5 = hof_add(5)\n",
        "print(add5([23, 88]))   # [28, 93]\n",
        "add10 = hof_add(10)\n",
        "print(add10([23, 88]))  # [33, 98]\n"
      ]
    },
    {
      "cell_type": "code",
      "execution_count": null,
      "metadata": {
        "id": "W-Gs1v26duZN",
        "outputId": "52985162-05c8-4264-ba4a-8ab6f6d885cc"
      },
      "outputs": [
        {
          "ename": "SyntaxError",
          "evalue": "invalid syntax (<ipython-input-36-977a7cc422d2>, line 3)",
          "output_type": "error",
          "traceback": [
            "\u001b[1;36m  File \u001b[1;32m\"<ipython-input-36-977a7cc422d2>\"\u001b[1;36m, line \u001b[1;32m3\u001b[0m\n\u001b[1;33m    new_add = lambda a, b: a + b old_add(10, 5) == new_add(10, 5)\u001b[0m\n\u001b[1;37m                                       ^\u001b[0m\n\u001b[1;31mSyntaxError\u001b[0m\u001b[1;31m:\u001b[0m invalid syntax\n"
          ]
        }
      ],
      "source": [
        "def old_add(a, b):\n",
        "    return a + b\n"
      ]
    },
    {
      "cell_type": "code",
      "execution_count": null,
      "metadata": {
        "id": "iw1bsXdVduZN",
        "outputId": "29caac52-f28f-451a-bc10-bcadfc4b2445"
      },
      "outputs": [
        {
          "ename": "SyntaxError",
          "evalue": "invalid syntax (<ipython-input-35-f119e7882dca>, line 1)",
          "output_type": "error",
          "traceback": [
            "\u001b[1;36m  File \u001b[1;32m\"<ipython-input-35-f119e7882dca>\"\u001b[1;36m, line \u001b[1;32m1\u001b[0m\n\u001b[1;33m    new_add = lambda a, b: a + b old_add(10, 5) == new_add(10, 5)\u001b[0m\n\u001b[1;37m                                       ^\u001b[0m\n\u001b[1;31mSyntaxError\u001b[0m\u001b[1;31m:\u001b[0m invalid syntax\n"
          ]
        }
      ],
      "source": [
        "\n"
      ]
    },
    {
      "cell_type": "code",
      "execution_count": null,
      "metadata": {
        "id": "5avIP8ssduZN"
      },
      "outputs": [],
      "source": []
    }
  ],
  "metadata": {
    "kernelspec": {
      "display_name": "Python 3",
      "language": "python",
      "name": "python3"
    },
    "language_info": {
      "codemirror_mode": {
        "name": "ipython",
        "version": 3
      },
      "file_extension": ".py",
      "mimetype": "text/x-python",
      "name": "python",
      "nbconvert_exporter": "python",
      "pygments_lexer": "ipython3",
      "version": "3.7.4"
    },
    "colab": {
      "provenance": []
    }
  },
  "nbformat": 4,
  "nbformat_minor": 0
}