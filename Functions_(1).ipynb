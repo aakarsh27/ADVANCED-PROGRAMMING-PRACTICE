{
  "cells": [
    {
      "cell_type": "code",
      "execution_count": null,
      "metadata": {
        "id": "yQW8v33BeT0I",
        "outputId": "acc813a5-812d-4827-ef29-0f7af8d1d967"
      },
      "outputs": [
        {
          "name": "stdout",
          "output_type": "stream",
          "text": [
            "Hello\n",
            "2\n"
          ]
        }
      ],
      "source": [
        "def my_function(a):\n",
        "    print(\"Hello\")\n",
        "    print(a)\n",
        "my_function(2)\n"
      ]
    },
    {
      "cell_type": "code",
      "execution_count": null,
      "metadata": {
        "id": "t27ysP2zeT0K",
        "outputId": "ac023a44-bf1e-4ccb-8a5a-139bac878e1a"
      },
      "outputs": [
        {
          "name": "stdout",
          "output_type": "stream",
          "text": [
            "5\n"
          ]
        }
      ],
      "source": [
        "def printme(str):\n",
        "    print(str)\n",
        "printme(5)\n"
      ]
    },
    {
      "cell_type": "code",
      "execution_count": null,
      "metadata": {
        "id": "0Kiw1U4ceT0L",
        "outputId": "5f9d709e-5c85-4f23-d3a0-37ebf9d300ef"
      },
      "outputs": [
        {
          "name": "stdout",
          "output_type": "stream",
          "text": [
            "Name:  Priya\n",
            "Age:   52\n"
          ]
        }
      ],
      "source": [
        "def printinfo(name,age):\n",
        "    \"This prints a passed info into this function\"\n",
        "    print(\"Name: \",name)\n",
        "    print(\"Age:  \",age)\n",
        "printinfo(age=52,name=\"Priya\")"
      ]
    },
    {
      "cell_type": "code",
      "execution_count": null,
      "metadata": {
        "id": "rEGZfKBOeT0M",
        "outputId": "debfe76b-4314-4da2-b692-066930697826"
      },
      "outputs": [
        {
          "name": "stdout",
          "output_type": "stream",
          "text": [
            "Name:  Jp\n",
            "Age:   34\n"
          ]
        }
      ],
      "source": [
        "def printdefault(name, age=30):\n",
        "    print(\"Name: \",name)\n",
        "    print(\"Age:  \",age)\n",
        "    return\n",
        "printdefault(\"Jp\",34)\n",
        ""
      ]
    },
    {
      "cell_type": "code",
      "execution_count": null,
      "metadata": {
        "id": "VP9unJVdeT0M",
        "outputId": "cc1624ef-fe1d-4e4c-fd19-53e556f2428d"
      },
      "outputs": [
        {
          "name": "stdout",
          "output_type": "stream",
          "text": [
            "Output is: \n",
            "hai 10\n",
            "20\n",
            "JP\n",
            "40\n"
          ]
        }
      ],
      "source": [
        "def printinfo(arg1, *vartuple):\n",
        "    #print\n",
        "    print(\"Output is: \")\n",
        "    print(\"hai\",arg1)\n",
        "    for a in vartuple:\n",
        "        print(a)\n",
        "    return;\n",
        "#printinfo(40)\n",
        "printinfo(10,20,\"JP\",40)"
      ]
    },
    {
      "cell_type": "code",
      "execution_count": null,
      "metadata": {
        "id": "o6k3zVM-eT0N",
        "outputId": "07886048-9e83-4614-c418-36ac24bd80b0"
      },
      "outputs": [
        {
          "name": "stdout",
          "output_type": "stream",
          "text": [
            "value of sum: SecE\n"
          ]
        }
      ],
      "source": [
        "total=lambda arg1,arg2:arg1+arg2;\n",
        "print(\"value of sum:\",total(\"Sec\",\"E\"))"
      ]
    },
    {
      "cell_type": "code",
      "execution_count": null,
      "metadata": {
        "id": "wYhRYad-eT0N",
        "outputId": "f08e28c1-86fb-47de-e948-84889bba376b"
      },
      "outputs": [
        {
          "name": "stdout",
          "output_type": "stream",
          "text": [
            "Inside the function: 30\n",
            "Outside the function: 30\n"
          ]
        }
      ],
      "source": [
        "def sum(arg1,arg2):\n",
        "    total=arg1+arg2\n",
        "    print(\"Inside the function:\", total)\n",
        "    return(total)\n",
        "    #return total;\n",
        "T=sum(10,20);\n",
        "print(\"Outside the function:\",T)"
      ]
    },
    {
      "cell_type": "code",
      "execution_count": null,
      "metadata": {
        "id": "3ZLegBpieT0N",
        "outputId": "0390780c-5554-489c-da34-7f4dba32c38d"
      },
      "outputs": [
        {
          "name": "stdout",
          "output_type": "stream",
          "text": [
            "15\n"
          ]
        }
      ],
      "source": [
        "x=lambda a:a+10\n",
        "print(x(5));"
      ]
    },
    {
      "cell_type": "code",
      "execution_count": null,
      "metadata": {
        "id": "9ivTR6fLeT0O",
        "outputId": "db6fe89f-cff2-46bd-c859-1b5caf2ed41e"
      },
      "outputs": [
        {
          "name": "stdout",
          "output_type": "stream",
          "text": [
            "parrot NameBlu and age20\n"
          ]
        }
      ],
      "source": [
        "class parrot:\n",
        "    name=\"Blu\"\n",
        "    age=20\n",
        "obj=parrot()\n",
        "print(\"parrot Name{} and age{}\".format(obj.name,obj.age))"
      ]
    },
    {
      "cell_type": "code",
      "execution_count": null,
      "metadata": {
        "id": "9Q3uaEWxeT0O",
        "outputId": "aaebebaf-85a1-4cb1-df2f-089ae02658d5"
      },
      "outputs": [
        {
          "name": "stdout",
          "output_type": "stream",
          "text": [
            "bird\n",
            "The parrot is green\n"
          ]
        }
      ],
      "source": [
        "class parrot:\n",
        "   species=\"bird\"\n",
        "   def green(self):\n",
        "        print(\"The parrot is green\")\n",
        "p=parrot()\n",
        "print(p.species)\n",
        "p.green()"
      ]
    },
    {
      "cell_type": "code",
      "execution_count": null,
      "metadata": {
        "id": "SxeeWO_BeT0O",
        "outputId": "dedcbf61-0117-4f56-b722-16a3c4f428a2"
      },
      "outputs": [
        {
          "name": "stdout",
          "output_type": "stream",
          "text": [
            "rno= 123\n",
            "name= Jaya\n",
            "branch= CSE\n",
            "roll No= 123\n",
            "reading\n"
          ]
        }
      ],
      "source": [
        "class student:\n",
        "    rno=123\n",
        "    name=\"Jaya\"\n",
        "    branch=\"CSE\"\n",
        "    def read(self):\n",
        "        rno=345\n",
        "        print(\"roll No=\", self.rno)\n",
        "       # print(\"Instance variable=\",self.rno)\n",
        "        print(\"reading\")\n",
        "abc=student()\n",
        "print(\"rno=\", abc.rno)\n",
        "print(\"name=\", abc.name)\n",
        "print(\"branch=\", abc.branch)\n",
        "abc.read()\n",
        ""
      ]
    },
    {
      "cell_type": "code",
      "execution_count": null,
      "metadata": {
        "id": "lxTaM3OCeT0Q",
        "outputId": "6008288c-ac07-4146-bd5a-d4158298e3f8"
      },
      "outputs": [
        {
          "name": "stdout",
          "output_type": "stream",
          "text": [
            "name Blue\n",
            "song Happy\n",
            "parrot name: Pap\n",
            "parrot song: cucko\n",
            "parrot name: Blue\n",
            "parrot song: Happy\n",
            "singing\n"
          ]
        }
      ],
      "source": [
        "class Parrot:\n",
        "    name =\"Blue\"\n",
        "    song=\"Happy\"\n",
        "    def sing(self):\n",
        "        name=\"Pap\"\n",
        "        song=\"cucko\"\n",
        "        print(\"parrot name:\",name)\n",
        "        print(\"parrot song:\",song)\n",
        "        print(\"parrot name:\",self.name)\n",
        "        print(\"parrot song:\",self.song)\n",
        "        print(\"singing\")\n",
        "blu=Parrot()\n",
        "print(\"name\",blu.name)\n",
        "print(\"song\",blu.song)\n",
        "blu.sing()\n",
        "\n"
      ]
    },
    {
      "cell_type": "code",
      "execution_count": null,
      "metadata": {
        "id": "PZi6fiFAeT0Q",
        "outputId": "af1884f9-6af7-44a1-8b3f-3f52f4f7016b"
      },
      "outputs": [
        {
          "name": "stdout",
          "output_type": "stream",
          "text": [
            "This is function one\n",
            "This is function two\n"
          ]
        }
      ],
      "source": [
        "# Single Inheritance\n",
        "class parent:\n",
        "    def func1(self):\n",
        "        print(\"This is function one\")\n",
        "class child(parent):\n",
        "    def func2(self):\n",
        "        print(\"This is function two\")\n",
        "ob=child()\n",
        "ob.func1()\n",
        "ob.func2()"
      ]
    },
    {
      "cell_type": "code",
      "execution_count": null,
      "metadata": {
        "id": "m8r1Nj6_eT0R",
        "outputId": "90f018ae-34e4-418c-9179-ab79fd583891"
      },
      "outputs": [
        {
          "name": "stdout",
          "output_type": "stream",
          "text": [
            "This is function 1 \n",
            "This is function 2 \n",
            "This is function 3 \n"
          ]
        }
      ],
      "source": [
        "#Multiple Inheitance\n",
        "class parent1:\n",
        "    def func1(self):\n",
        "        print(\"This is function 1 \")\n",
        "class parent2:\n",
        "    def func2(self):\n",
        "        print(\"This is function 2 \")\n",
        "class child(parent1, parent2):\n",
        "    def func3(self):\n",
        "        print(\"This is function 3 \")\n",
        "ob=child()\n",
        "ob.func1()\n",
        "ob.func2()\n",
        "ob.func3()"
      ]
    },
    {
      "cell_type": "code",
      "execution_count": null,
      "metadata": {
        "id": "PEc8uCsJeT0R",
        "outputId": "24a3414f-9304-44ca-cfc6-d4081aa8a26d"
      },
      "outputs": [
        {
          "name": "stdout",
          "output_type": "stream",
          "text": [
            "This is function one \n",
            "This is function two\n",
            "This is function three\n"
          ]
        }
      ],
      "source": [
        "# Multilevel Inheritance\n",
        "class parent:\n",
        "    def func1(self):\n",
        "        print(\"This is function one \")\n",
        "class child1(parent):\n",
        "    def func2(self):\n",
        "        print(\"This is function two\")\n",
        "class child2(child1):\n",
        "    def func3(self):\n",
        "        print(\"This is function three\")\n",
        "ob=child2()\n",
        "ob.func1()\n",
        "ob.func2()\n",
        "ob.func3()\n",
        "\n"
      ]
    },
    {
      "cell_type": "code",
      "execution_count": null,
      "metadata": {
        "id": "if015G6meT0R",
        "outputId": "80d57052-bac3-4673-804b-6443a0486c4a"
      },
      "outputs": [
        {
          "name": "stdout",
          "output_type": "stream",
          "text": [
            "This is function one \n",
            "This is function two\n",
            "This is function one \n",
            "This is function two\n"
          ]
        }
      ],
      "source": [
        "#Hierarchial Inheritance\n",
        "class parent:\n",
        "    def func1(self):\n",
        "        print(\"This is function one \")\n",
        "class child1(parent):\n",
        "    def func2(self):\n",
        "        print(\"This is function two\")\n",
        "class child2(parent):\n",
        "    def func3(self):\n",
        "        print(\"This is function two\")\n",
        "ob=child1()\n",
        "ob1=child2()\n",
        "ob.func1()\n",
        "ob.func2()\n",
        "ob1.func1()\n",
        "ob1.func3()"
      ]
    },
    {
      "cell_type": "code",
      "execution_count": null,
      "metadata": {
        "id": "NpVm3Ko9eT0S",
        "outputId": "c9f3cfc1-f56b-4252-f11b-8fba3cfdd3a0"
      },
      "outputs": [
        {
          "name": "stdout",
          "output_type": "stream",
          "text": [
            "This is function one \n",
            "This is function Three\n",
            "This is function Four\n"
          ]
        }
      ],
      "source": [
        "#Hybrid Inheritance\n",
        "class parent:\n",
        "    def func1(self):\n",
        "        print(\"This is function one \")\n",
        "class child1(parent):\n",
        "    def func2(self):\n",
        "        print(\"This is function two\")\n",
        "class child2(parent):\n",
        "    def func3(self):\n",
        "        print(\"This is function Three\")\n",
        "class child3(child2, parent):\n",
        "    def func4(self):\n",
        "        print(\"This is function Four\")\n",
        "ob=child3()\n",
        "ob.func1()\n",
        "#ob.func2()\n",
        "ob.func3()\n",
        "ob.func4()\n"
      ]
    },
    {
      "cell_type": "code",
      "execution_count": null,
      "metadata": {
        "id": "KhC9SMrLeT0S",
        "outputId": "480e989c-ba56-4564-8e7f-fed633bab75b"
      },
      "outputs": [
        {
          "name": "stdout",
          "output_type": "stream",
          "text": [
            "This is function two\n",
            "This is function one\n"
          ]
        }
      ],
      "source": [
        "#Super Function\n",
        "class parent:\n",
        "    def func1(self):\n",
        "        print(\"This is function one\")\n",
        "class child(parent):\n",
        "    def func2(self):\n",
        "        print(\"This is function two\")\n",
        "        super().func1()\n",
        "\n",
        "ob=child()\n",
        "ob.func2()"
      ]
    },
    {
      "cell_type": "code",
      "execution_count": null,
      "metadata": {
        "id": "4hMy54ULeT0S",
        "outputId": "11aa6c33-fdb7-46ce-eff9-cd4fb3264a1c"
      },
      "outputs": [
        {
          "name": "stdout",
          "output_type": "stream",
          "text": [
            "This is function two\n"
          ]
        }
      ],
      "source": [
        "#Method Overridding\n",
        "class parent:\n",
        "    def func1(self):\n",
        "        print(\"This is function one\")\n",
        "class child(parent):\n",
        "    def func1(self):\n",
        "        print(\"This is function two\")\n",
        "ob=child()\n",
        "ob.func1()"
      ]
    },
    {
      "cell_type": "code",
      "execution_count": null,
      "metadata": {
        "id": "do0Cls5BeT0T",
        "outputId": "6ec15a9b-706d-425e-87a6-8045575ca8d8"
      },
      "outputs": [
        {
          "name": "stdout",
          "output_type": "stream",
          "text": [
            "Updating software\n",
            "driving\n"
          ]
        }
      ],
      "source": [
        "#init method\n",
        "class car:\n",
        "    def __init__(self):\n",
        "        self.__updatesoftware()\n",
        "    def drive(self):\n",
        "        print(\"driving\")\n",
        "    def __updatesoftware(self):\n",
        "        print(\"Updating software\")\n",
        "c=car()\n",
        "c.drive()"
      ]
    },
    {
      "cell_type": "code",
      "execution_count": null,
      "metadata": {
        "id": "IGK4taIceT0T",
        "outputId": "e532fff8-bfc1-4091-9cff-af187738e507"
      },
      "outputs": [
        {
          "name": "stdout",
          "output_type": "stream",
          "text": [
            "Penguin is ready\n",
            "penguin\n",
            "swim faster\n",
            "run faster\n"
          ]
        }
      ],
      "source": [
        "#init method\n",
        "class bird:\n",
        "    def __init__(self):\n",
        "        print(\"Bird is ready\")\n",
        "    def who(self):\n",
        "        print(\"Bird\")\n",
        "    def swim(self):\n",
        "          print(\"swim faster\")\n",
        "#child class\n",
        "class penguin(bird):\n",
        "    def __init__(self):\n",
        "        #call super function\n",
        "        super().__init__()\n",
        "        print(\"Penguin is ready\")\n",
        "    def who(self):\n",
        "        print(\"penguin\")\n",
        "    def run(self):\n",
        "        print(\"run faster\")\n",
        "peggy=penguin()\n",
        "peggy.who()\n",
        "peggy.swim()\n",
        "peggy.run()\n"
      ]
    },
    {
      "cell_type": "code",
      "execution_count": null,
      "metadata": {
        "id": "g16FgDlVeT0T",
        "outputId": "be0d1919-e182-4c7c-c5f4-4075ab72c84f"
      },
      "outputs": [
        {
          "name": "stdout",
          "output_type": "stream",
          "text": [
            "Selling price :900\n",
            "Selling price1 :1100\n",
            "Selling price1 :1200\n",
            "Selling price :1200\n"
          ]
        }
      ],
      "source": [
        "class computer:\n",
        "    def __init__(self):\n",
        "        self.__maxprice=900\n",
        "    def sell(self):\n",
        "        print(\"Selling price :{}\". format(self.__maxprice))\n",
        "    def setmaxprice(self,price):\n",
        "        self.__maxprice=price\n",
        "        print(\"Selling price1 :{}\". format(price))\n",
        "c=computer()\n",
        "c.sell()\n",
        "#change the price\n",
        "c.setmaxprice(1100)\n",
        "# using setter function\n",
        "c.setmaxprice(1200)\n",
        "c.sell()"
      ]
    },
    {
      "cell_type": "code",
      "execution_count": null,
      "metadata": {
        "id": "TDLlZzbmeT0T",
        "outputId": "cf8e08f4-e8d3-4ce0-80ff-e4a3ef5b1f86"
      },
      "outputs": [
        {
          "name": "stdout",
          "output_type": "stream",
          "text": [
            "Parrot can fly\n",
            "Penguin can't fly\n"
          ]
        }
      ],
      "source": [
        "#polymorphism\n",
        "class Parrot:\n",
        "    def fly(self):\n",
        "        print(\"Parrot can fly\")\n",
        "    def swim(self):\n",
        "        print(\"Parrot can't swim\")\n",
        "\n",
        "class Penguin:\n",
        "    def fly(self):\n",
        "        print(\"Penguin can't fly\")\n",
        "    def swim(self):\n",
        "        print(\"Penguin can swim\")\n",
        "# common interface\n",
        "def flying_test(bird):\n",
        "            bird.fly()\n",
        "#instantiate objects\n",
        "blu = Parrot()\n",
        "peggy = Penguin()\n",
        "# passing the object\n",
        "flying_test(blu)\n",
        "flying_test(peggy)\n",
        "\n"
      ]
    },
    {
      "cell_type": "code",
      "execution_count": null,
      "metadata": {
        "id": "sUp4-RVreT0U",
        "outputId": "603ac850-1fe4-478a-cd49-e85c63cccabf"
      },
      "outputs": [
        {
          "name": "stdout",
          "output_type": "stream",
          "text": [
            "Green\n",
            "Blu\n"
          ]
        }
      ],
      "source": [
        "#constructor\n",
        "class bird:\n",
        "    name=\"Green\"\n",
        "#default constructor\n",
        "    def __init__(self):\n",
        "        print(self.name)\n",
        "#a method for printing data member\n",
        "    def print_bird(self):\n",
        "        self.name=\"Blu\"\n",
        "        print(self.name)\n",
        "#creating the object\n",
        "obj=bird()\n",
        "# calling the instance method using the object obj\n",
        "obj.print_bird()\n"
      ]
    },
    {
      "cell_type": "code",
      "execution_count": null,
      "metadata": {
        "id": "8CEsTGbleT0U",
        "outputId": "f3c6c48d-fa2a-4c34-c783-c3dc1e1a1bc6"
      },
      "outputs": [
        {
          "name": "stdout",
          "output_type": "stream",
          "text": [
            "1000\n",
            "2000\n",
            "3000\n",
            "First number=1000\n",
            "Second number=2000\n",
            "Third number=0\n"
          ]
        }
      ],
      "source": [
        "#Parametrized Constructor\n",
        "class addition:\n",
        "    first=0\n",
        "    second=0\n",
        "    third=0\n",
        "#Parametrized constructor\n",
        "    def __init__(self,f,s):\n",
        "        self.first=f\n",
        "        self.second=s\n",
        "        print(self.first)\n",
        "        print(self.second)\n",
        "    def display(self):\n",
        "        print(\"First number=\" + str(self.first))\n",
        "        print(\"Second number=\" + str(self.second))\n",
        "        print(\"Third number=\" + str(self.third))\n",
        "    def calculate(self):\n",
        "        self.answer=self.first + self.second\n",
        "        print(self.answer)\n",
        "#creating the object\n",
        "obj=addition(1000,2000)\n",
        "obj.calculate()\n",
        "obj.display()"
      ]
    },
    {
      "cell_type": "code",
      "execution_count": null,
      "metadata": {
        "id": "4LejfDPDeT0U",
        "outputId": "1b68b223-cad4-433c-9954-1f858dab6f93"
      },
      "outputs": [
        {
          "name": "stdout",
          "output_type": "stream",
          "text": [
            "Employee created\n"
          ]
        }
      ],
      "source": [
        "class employee:\n",
        "#Initializing\n",
        "    def __init__(self):\n",
        "        print('Employee created')\n",
        "#Deleting (Calling destructor)\n",
        "   # def __del__(self):\n",
        "       # print('Destructor called, Employee deleted')\n",
        "obj=employee()\n",
        "#del obj"
      ]
    },
    {
      "cell_type": "code",
      "execution_count": null,
      "metadata": {
        "scrolled": true,
        "id": "Rq15c0xqeT0V",
        "outputId": "ae86e573-14a2-4b83-c854-88fdfcb086c0"
      },
      "outputs": [
        {
          "name": "stdout",
          "output_type": "stream",
          "text": [
            "Calling Create_obj() function...\n",
            "Making object\n",
            "employee created\n",
            "Function end\n",
            "Program End...\n"
          ]
        }
      ],
      "source": [
        "class employee:\n",
        "# Intializing constructor\n",
        "    def __init__(self):\n",
        "        print('employee created')\n",
        "#calling destructor\n",
        "    def __del__(self):\n",
        "        print('Destructor called')\n",
        "def Create_obj():\n",
        "    print('Making object')\n",
        "    obj=employee()\n",
        "    print('Function end')\n",
        "    return obj\n",
        "print('Calling Create_obj() function...')\n",
        "obj = Create_obj()\n",
        "#del obj\n",
        "print('Program End...')\n"
      ]
    },
    {
      "cell_type": "code",
      "execution_count": null,
      "metadata": {
        "id": "VbU361XEeT0V",
        "outputId": "4d12d855-ef71-451d-ee5e-3c45b8465e86"
      },
      "outputs": [
        {
          "name": "stdout",
          "output_type": "stream",
          "text": [
            "Calling Create_obj() function...\n",
            "employee created\n",
            "Destructor called\n",
            "Program End...\n"
          ]
        }
      ],
      "source": [
        "class employee:\n",
        "# Intializing constructor\n",
        "    def __init__(self):\n",
        "        print('employee created')\n",
        "#calling destructor\n",
        "    def __del__(self):\n",
        "        print('Destructor called')\n",
        "print('Calling Create_obj() function...')\n",
        "obj = employee()\n",
        "print('Program End...')"
      ]
    },
    {
      "cell_type": "code",
      "execution_count": null,
      "metadata": {
        "id": "9eq00aXveT0V",
        "outputId": "61e1e03c-a2b7-476d-c269-3103cb2b73e0"
      },
      "outputs": [
        {
          "name": "stdout",
          "output_type": "stream",
          "text": [
            "Dog has four legs.\n",
            "Dog is a warm-blooded animal.\n"
          ]
        }
      ],
      "source": [
        "class Mammal(object):\n",
        "  def __init__(self, mammalName):\n",
        "    print(mammalName, 'is a warm-blooded animal.')\n",
        "\n",
        "class Dog(Mammal):\n",
        "  def __init__(self):\n",
        "    print('Dog has four legs.')\n",
        "    super().__init__('Dog')\n",
        "\n",
        "d1 = Dog()\n"
      ]
    },
    {
      "cell_type": "code",
      "execution_count": null,
      "metadata": {
        "id": "Y6MSFL96eT0V"
      },
      "outputs": [],
      "source": []
    }
  ],
  "metadata": {
    "kernelspec": {
      "display_name": "Python 3",
      "language": "python",
      "name": "python3"
    },
    "language_info": {
      "codemirror_mode": {
        "name": "ipython",
        "version": 3
      },
      "file_extension": ".py",
      "mimetype": "text/x-python",
      "name": "python",
      "nbconvert_exporter": "python",
      "pygments_lexer": "ipython3",
      "version": "3.7.4"
    },
    "colab": {
      "provenance": []
    }
  },
  "nbformat": 4,
  "nbformat_minor": 0
}